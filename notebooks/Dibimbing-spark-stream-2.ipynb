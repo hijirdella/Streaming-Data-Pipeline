{
 "cells": [
  {
   "cell_type": "markdown",
   "metadata": {},
   "source": [
    "# Initialization"
   ]
  },
  {
   "cell_type": "code",
   "execution_count": 6,
   "metadata": {
    "tags": []
   },
   "outputs": [],
   "source": [
    "import pyspark\n",
    "sparkcontext = pyspark.SparkContext.getOrCreate(conf=(\n",
    "        pyspark\n",
    "        .SparkConf()\n",
    "        .setAppName('Dibimbing')\n",
    "        .setMaster('local')\n",
    "    ))\n",
    "sparkcontext.setLogLevel(\"WARN\")\n",
    "\n",
    "spark = pyspark.sql.SparkSession(sparkcontext.getOrCreate())"
   ]
  },
  {
   "cell_type": "code",
   "execution_count": 7,
   "metadata": {
    "tags": []
   },
   "outputs": [
    {
     "data": {
      "text/html": [
       "\n",
       "            <div>\n",
       "                <p><b>SparkSession - in-memory</b></p>\n",
       "                \n",
       "        <div>\n",
       "            <p><b>SparkContext</b></p>\n",
       "\n",
       "            <p><a href=\"http://streaming-jupyter:4041\">Spark UI</a></p>\n",
       "\n",
       "            <dl>\n",
       "              <dt>Version</dt>\n",
       "                <dd><code>v3.3.2</code></dd>\n",
       "              <dt>Master</dt>\n",
       "                <dd><code>local</code></dd>\n",
       "              <dt>AppName</dt>\n",
       "                <dd><code>Dibimbing</code></dd>\n",
       "            </dl>\n",
       "        </div>\n",
       "        \n",
       "            </div>\n",
       "        "
      ],
      "text/plain": [
       "<pyspark.sql.session.SparkSession at 0x7f0c6cd2b550>"
      ]
     },
     "execution_count": 7,
     "metadata": {},
     "output_type": "execute_result"
    }
   ],
   "source": [
    "spark"
   ]
  },
  {
   "cell_type": "markdown",
   "metadata": {},
   "source": [
    "# Data Load"
   ]
  },
  {
   "cell_type": "code",
   "execution_count": 4,
   "metadata": {
    "tags": []
   },
   "outputs": [
    {
     "name": "stdout",
     "output_type": "stream",
     "text": [
      "streaming-kafka\n",
      "assignment-streaming-spark\n"
     ]
    }
   ],
   "source": [
    "import json\n",
    "import uuid\n",
    "import os\n",
    "import json\n",
    "from dotenv import load_dotenv\n",
    "from pathlib import Path\n",
    "from kafka import KafkaProducer\n",
    "from faker import Faker\n",
    "from time import sleep\n",
    "from datetime import datetime, timedelta\n",
    "\n",
    "dotenv_path = Path(\"/resources/.env\")\n",
    "load_dotenv(dotenv_path=dotenv_path)\n",
    "\n",
    "kafka_host = os.getenv(\"KAFKA_HOST\")\n",
    "kafka_topic = os.getenv(\"KAFKA_TOPIC_NAME\")\n",
    "\n",
    "print(kafka_host)\n",
    "print(kafka_topic)"
   ]
  },
  {
   "cell_type": "code",
   "execution_count": 8,
   "metadata": {
    "tags": []
   },
   "outputs": [
    {
     "name": "stdout",
     "output_type": "stream",
     "text": [
      "_committed_730451297822678341\n",
      "part-00000-tid-730451297822678341-1dda7027-2071-4d73-a0e2-7fb6a91e1d1f-0-c000.json\n",
      "part-00001-tid-730451297822678341-1dda7027-2071-4d73-a0e2-7fb6a91e1d1f-0-c000.json\n",
      "part-00002-tid-730451297822678341-1dda7027-2071-4d73-a0e2-7fb6a91e1d1f-0-c000.json\n",
      "part-00003-tid-730451297822678341-1dda7027-2071-4d73-a0e2-7fb6a91e1d1f-0-c000.json\n",
      "part-00004-tid-730451297822678341-1dda7027-2071-4d73-a0e2-7fb6a91e1d1f-0-c000.json\n",
      "part-00005-tid-730451297822678341-1dda7027-2071-4d73-a0e2-7fb6a91e1d1f-0-c000.json\n",
      "part-00006-tid-730451297822678341-1dda7027-2071-4d73-a0e2-7fb6a91e1d1f-0-c000.json\n",
      "part-00007-tid-730451297822678341-1dda7027-2071-4d73-a0e2-7fb6a91e1d1f-0-c000.json\n",
      "part-00008-tid-730451297822678341-1dda7027-2071-4d73-a0e2-7fb6a91e1d1f-0-c000.json\n"
     ]
    }
   ],
   "source": [
    "!ls /resources/data/activity-data/ | head -10"
   ]
  },
  {
   "cell_type": "code",
   "execution_count": 9,
   "metadata": {
    "tags": []
   },
   "outputs": [
    {
     "data": {
      "text/plain": [
       "StructType([StructField('Arrival_Time', LongType(), True), StructField('Creation_Time', LongType(), True), StructField('Device', StringType(), True), StructField('Index', LongType(), True), StructField('Model', StringType(), True), StructField('User', StringType(), True), StructField('gt', StringType(), True), StructField('x', DoubleType(), True), StructField('y', DoubleType(), True), StructField('z', DoubleType(), True)])"
      ]
     },
     "execution_count": 9,
     "metadata": {},
     "output_type": "execute_result"
    }
   ],
   "source": [
    "static = spark.read.json('/resources/data/activity-data/')\n",
    "dataSchema = static.schema\n",
    "dataSchema"
   ]
  },
  {
   "cell_type": "code",
   "execution_count": 10,
   "metadata": {
    "tags": []
   },
   "outputs": [
    {
     "name": "stdout",
     "output_type": "stream",
     "text": [
      "+-------------+-------------------+--------+-----+------+----+-----+------------+-------------+------------+\n",
      "| Arrival_Time|      Creation_Time|  Device|Index| Model|User|   gt|           x|            y|           z|\n",
      "+-------------+-------------------+--------+-----+------+----+-----+------------+-------------+------------+\n",
      "|1424686735011|1424686733015076670|nexus4_1|    3|nexus4|   g|stand|0.0014038086|   0.03147888|  0.01109314|\n",
      "|1424686735214|1424688581265321168|nexus4_2|   50|nexus4|   g|stand|-0.008926392|  -0.04034424|0.0034332275|\n",
      "|1424686735420|1424688581471925172|nexus4_2|   91|nexus4|   g|stand|-3.814697E-4|-0.0018920898|-0.015792847|\n",
      "|1424686735618|1424686733619416269|nexus4_1|  123|nexus4|   g|stand| 3.356934E-4| -0.030471802|-0.025222778|\n",
      "|1424686735821|1424688581874604615|nexus4_2|  171|nexus4|   g|stand|0.0038909912| -0.013641357|  0.01411438|\n",
      "+-------------+-------------------+--------+-----+------+----+-----+------------+-------------+------------+\n",
      "only showing top 5 rows\n",
      "\n"
     ]
    }
   ],
   "source": [
    "static.show(5)"
   ]
  },
  {
   "cell_type": "markdown",
   "metadata": {},
   "source": [
    "Metadata for the dataset\n",
    "\n",
    "| Column | Description |\n",
    "| --- | ----------- |\n",
    "| Index         |  The row number.\n",
    "| Arrival_Time  |  The time the measurement arrived to the sensing application\n",
    "| Creation_Time |  The timestamp the OS attaches to the sample\n",
    "| X,Y,Z | The values provided by the sensor for the three axes, X,y,z\n",
    "| User          |  The user this sample originates from, the users are named a to i.\n",
    "| Model         |  The phone/watch model this sample originates from\n",
    "| Device        |  The specific device this sample is from. They are prefixed with the model name and then the number, e.g., nexus4_1 or nexus4_2.\n",
    "| Gt            |  The activity the user was performing: bike sit, stand, walk, stairsup, stairsdown and null"
   ]
  },
  {
   "cell_type": "markdown",
   "metadata": {},
   "source": [
    "# Structured Streaming"
   ]
  },
  {
   "cell_type": "markdown",
   "metadata": {},
   "source": [
    "### Mock File Streaming (Throttle)"
   ]
  },
  {
   "cell_type": "code",
   "execution_count": 11,
   "metadata": {
    "tags": []
   },
   "outputs": [
    {
     "name": "stdout",
     "output_type": "stream",
     "text": [
      "root\n",
      " |-- Arrival_Time: long (nullable = true)\n",
      " |-- Creation_Time: long (nullable = true)\n",
      " |-- Device: string (nullable = true)\n",
      " |-- Index: long (nullable = true)\n",
      " |-- Model: string (nullable = true)\n",
      " |-- User: string (nullable = true)\n",
      " |-- gt: string (nullable = true)\n",
      " |-- x: double (nullable = true)\n",
      " |-- y: double (nullable = true)\n",
      " |-- z: double (nullable = true)\n",
      "\n"
     ]
    }
   ],
   "source": [
    "spark.conf.set('spark.sql.shuffle.partitions', 5)\n",
    "streaming = (\n",
    "    spark\n",
    "    .readStream\n",
    "    .schema(dataSchema)\n",
    "    .option('maxFilesPerTrigger', 1)\n",
    "    .json('/resources/data/activity-data/')\n",
    ")\n",
    "streaming.printSchema()"
   ]
  },
  {
   "cell_type": "markdown",
   "metadata": {},
   "source": [
    "# Windowing"
   ]
  },
  {
   "cell_type": "markdown",
   "metadata": {},
   "source": [
    "### Window on Event Time"
   ]
  },
  {
   "cell_type": "code",
   "execution_count": 12,
   "metadata": {
    "tags": []
   },
   "outputs": [],
   "source": [
    "withEventTime = streaming.selectExpr(\n",
    "    \"*\",\n",
    "    \"cast(cast(Creation_time as double)/1000000000 as timestamp) as event_time\"\n",
    ")\n"
   ]
  },
  {
   "cell_type": "markdown",
   "metadata": {},
   "source": [
    "### Tumbling Window"
   ]
  },
  {
   "cell_type": "code",
   "execution_count": 13,
   "metadata": {
    "tags": []
   },
   "outputs": [
    {
     "data": {
      "text/plain": [
       "<pyspark.sql.streaming.StreamingQuery at 0x7f0c0d989e10>"
      ]
     },
     "execution_count": 13,
     "metadata": {},
     "output_type": "execute_result"
    }
   ],
   "source": [
    "from pyspark.sql.functions import window, col\n",
    "\n",
    "(\n",
    "    withEventTime\n",
    "    .groupBy(window(col('event_time'), '10 minutes'))\n",
    "    .count()\n",
    "    .writeStream\n",
    "    .queryName('pyevents_per_window')\n",
    "    .format('memory')\n",
    "    .outputMode('complete')\n",
    "    .start()\n",
    ")"
   ]
  },
  {
   "cell_type": "code",
   "execution_count": 17,
   "metadata": {
    "tags": []
   },
   "outputs": [
    {
     "name": "stdout",
     "output_type": "stream",
     "text": [
      "+--------------------+-----+\n",
      "|              window|count|\n",
      "+--------------------+-----+\n",
      "|{2015-02-24 11:50...|20681|\n",
      "|{2015-02-24 13:00...|18336|\n",
      "|{2015-02-23 12:30...|13836|\n",
      "|{2015-02-23 10:20...|13634|\n",
      "|{2015-02-24 12:30...|17229|\n",
      "+--------------------+-----+\n",
      "only showing top 5 rows\n",
      "\n"
     ]
    }
   ],
   "source": [
    "spark.sql(\"SELECT * FROM pyevents_per_window\").show(5)"
   ]
  },
  {
   "cell_type": "code",
   "execution_count": 15,
   "metadata": {
    "tags": []
   },
   "outputs": [
    {
     "name": "stdout",
     "output_type": "stream",
     "text": [
      "root\n",
      " |-- window: struct (nullable = false)\n",
      " |    |-- start: timestamp (nullable = true)\n",
      " |    |-- end: timestamp (nullable = true)\n",
      " |-- count: long (nullable = false)\n",
      "\n"
     ]
    }
   ],
   "source": [
    "spark.sql(\"SELECT * FROM pyevents_per_window\").printSchema()"
   ]
  },
  {
   "cell_type": "markdown",
   "metadata": {},
   "source": [
    "### Sliding Windows"
   ]
  },
  {
   "cell_type": "code",
   "execution_count": 11,
   "metadata": {
    "tags": []
   },
   "outputs": [
    {
     "data": {
      "text/plain": [
       "<pyspark.sql.streaming.StreamingQuery at 0xffff8007c040>"
      ]
     },
     "execution_count": 11,
     "metadata": {},
     "output_type": "execute_result"
    }
   ],
   "source": [
    "from pyspark.sql.functions import window, col\n",
    "\n",
    "(\n",
    "    withEventTime\n",
    "    .groupBy(window(col('event_time'), '10 minutes', '5 minutes'))\n",
    "    .count()\n",
    "    .writeStream\n",
    "    .queryName('pyevents_per_slidingWindow')\n",
    "    .format('memory')\n",
    "    .outputMode('complete')\n",
    "    .start()\n",
    ")"
   ]
  },
  {
   "cell_type": "code",
   "execution_count": 12,
   "metadata": {
    "tags": []
   },
   "outputs": [
    {
     "name": "stdout",
     "output_type": "stream",
     "text": [
      "+--------------------+-----+\n",
      "|              window|count|\n",
      "+--------------------+-----+\n",
      "|{2015-02-23 14:15...| 1398|\n",
      "|{2015-02-24 11:50...| 1843|\n",
      "|{2015-02-24 13:00...| 1644|\n",
      "|{2015-02-23 12:30...| 1226|\n",
      "|{2015-02-23 10:20...| 1165|\n",
      "+--------------------+-----+\n",
      "only showing top 5 rows\n",
      "\n"
     ]
    }
   ],
   "source": [
    "spark.sql('SELECT * FROM pyevents_per_slidingWindow').show(5)"
   ]
  },
  {
   "cell_type": "code",
   "execution_count": 13,
   "metadata": {
    "tags": []
   },
   "outputs": [
    {
     "name": "stdout",
     "output_type": "stream",
     "text": [
      "root\n",
      " |-- window: struct (nullable = true)\n",
      " |    |-- start: timestamp (nullable = true)\n",
      " |    |-- end: timestamp (nullable = true)\n",
      " |-- count: long (nullable = false)\n",
      "\n"
     ]
    }
   ],
   "source": [
    "spark.sql(\"SELECT * FROM pyevents_per_slidingWindow\").printSchema()"
   ]
  },
  {
   "cell_type": "markdown",
   "metadata": {},
   "source": [
    "# Watermarks"
   ]
  },
  {
   "cell_type": "code",
   "execution_count": 14,
   "metadata": {
    "tags": []
   },
   "outputs": [
    {
     "data": {
      "text/plain": [
       "<pyspark.sql.streaming.StreamingQuery at 0xffff597a5c90>"
      ]
     },
     "execution_count": 14,
     "metadata": {},
     "output_type": "execute_result"
    }
   ],
   "source": [
    "(\n",
    "    withEventTime\n",
    "    .withWatermark('event_time', '30 minutes')\n",
    "    .groupBy(window(col('event_time'), '10 minutes', '5 minutes'))\n",
    "    .count()\n",
    "    .writeStream\n",
    "    .queryName('pyevents_per_window2')\n",
    "    .format('memory')\n",
    "    .outputMode('complete')\n",
    "    .start()\n",
    ")"
   ]
  },
  {
   "cell_type": "code",
   "execution_count": 15,
   "metadata": {
    "tags": []
   },
   "outputs": [
    {
     "name": "stdout",
     "output_type": "stream",
     "text": [
      "+--------------------+-----+\n",
      "|              window|count|\n",
      "+--------------------+-----+\n",
      "|{2015-02-23 14:15...| 1398|\n",
      "|{2015-02-24 11:50...| 1843|\n",
      "|{2015-02-24 13:00...| 1644|\n",
      "|{2015-02-23 12:30...| 1226|\n",
      "|{2015-02-23 10:20...| 1165|\n",
      "+--------------------+-----+\n",
      "only showing top 5 rows\n",
      "\n"
     ]
    }
   ],
   "source": [
    "spark.sql('SELECT * FROM pyevents_per_window2').show(5)"
   ]
  },
  {
   "cell_type": "markdown",
   "metadata": {},
   "source": [
    "# Drop Duplicates"
   ]
  },
  {
   "cell_type": "code",
   "execution_count": 16,
   "metadata": {
    "tags": []
   },
   "outputs": [
    {
     "data": {
      "text/plain": [
       "<pyspark.sql.streaming.StreamingQuery at 0xffff597a6a70>"
      ]
     },
     "execution_count": 16,
     "metadata": {},
     "output_type": "execute_result"
    }
   ],
   "source": [
    "(\n",
    "    withEventTime\n",
    "    .withWatermark('event_time', '5 seconds')\n",
    "    .dropDuplicates(['User', 'event_time'])\n",
    "    .groupBy('User')\n",
    "    .count()\n",
    "    .writeStream\n",
    "    .queryName('pydeduplicated')\n",
    "    .format('memory')\n",
    "    .outputMode('complete')\n",
    "    .start()\n",
    ")"
   ]
  },
  {
   "cell_type": "code",
   "execution_count": 17,
   "metadata": {
    "tags": []
   },
   "outputs": [
    {
     "name": "stdout",
     "output_type": "stream",
     "text": [
      "+----+-----+\n",
      "|User|count|\n",
      "+----+-----+\n",
      "|   a| 8085|\n",
      "|   b| 9123|\n",
      "|   c| 7715|\n",
      "|   g| 9167|\n",
      "|   h| 7733|\n",
      "+----+-----+\n",
      "only showing top 5 rows\n",
      "\n"
     ]
    }
   ],
   "source": [
    "spark.sql('SELECT * FROM pydeduplicated').show(5)"
   ]
  },
  {
   "cell_type": "markdown",
   "metadata": {},
   "source": [
    "# Checkpoints"
   ]
  },
  {
   "cell_type": "code",
   "execution_count": 19,
   "metadata": {
    "tags": []
   },
   "outputs": [],
   "source": [
    "static = spark.read.json('/resources/data/activity-data/')\n",
    "\n",
    "streaming = (\n",
    "    spark\n",
    "    .readStream\n",
    "    .schema(static.schema)\n",
    "    .option('maxFilesPerTrigger', 10)\n",
    "    .json('/resources/data/activity-data/')\n",
    "    .groupBy('gt')\n",
    "    .count()\n",
    ")\n",
    "\n",
    "\n",
    "query = (\n",
    "    streaming\n",
    "    .writeStream\n",
    "    .outputMode('complete')\n",
    "    .option('checkpointlocation', '/resources/logs')\n",
    "    .queryName('test_python_stream')\n",
    "    .format('memory')\n",
    "    .start()\n",
    ")"
   ]
  },
  {
   "cell_type": "code",
   "execution_count": 18,
   "metadata": {
    "tags": []
   },
   "outputs": [],
   "source": [
    "spark.stop()"
   ]
  },
  {
   "cell_type": "code",
   "execution_count": null,
   "metadata": {},
   "outputs": [],
   "source": []
  }
 ],
 "metadata": {
  "kernelspec": {
   "display_name": "Python 3 (ipykernel)",
   "language": "python",
   "name": "python3"
  },
  "language_info": {
   "codemirror_mode": {
    "name": "ipython",
    "version": 3
   },
   "file_extension": ".py",
   "mimetype": "text/x-python",
   "name": "python",
   "nbconvert_exporter": "python",
   "pygments_lexer": "ipython3",
   "version": "3.10.10"
  }
 },
 "nbformat": 4,
 "nbformat_minor": 4
}
